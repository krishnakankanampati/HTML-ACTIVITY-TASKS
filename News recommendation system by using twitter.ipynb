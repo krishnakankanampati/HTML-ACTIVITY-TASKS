{
  "cells": [
    {
      "cell_type": "markdown",
      "metadata": {
        "id": "view-in-github",
        "colab_type": "text"
      },
      "source": [
        "<a href=\"https://colab.research.google.com/github/krishnakankanampati/HTML-ACTIVITY-TASKS/blob/main/News%20recommendation%20system%20by%20using%20twitter.ipynb\" target=\"_parent\"><img src=\"https://colab.research.google.com/assets/colab-badge.svg\" alt=\"Open In Colab\"/></a>"
      ]
    },
    {
      "cell_type": "code",
      "execution_count": 10,
      "metadata": {
        "colab": {
          "base_uri": "https://localhost:8080/"
        },
        "id": "g3mNCGmvtrOg",
        "outputId": "a22a1551-fb35-44c7-9dda-72dc407d1f61"
      },
      "outputs": [
        {
          "output_type": "stream",
          "name": "stdout",
          "text": [
            "Requirement already satisfied: ntscraper in /usr/local/lib/python3.10/dist-packages (0.3.13)\n",
            "Requirement already satisfied: requests in /usr/local/lib/python3.10/dist-packages (from ntscraper) (2.31.0)\n",
            "Requirement already satisfied: beautifulsoup4 in /usr/local/lib/python3.10/dist-packages (from ntscraper) (4.12.3)\n",
            "Requirement already satisfied: lxml in /usr/local/lib/python3.10/dist-packages (from ntscraper) (4.9.4)\n",
            "Requirement already satisfied: soupsieve>1.2 in /usr/local/lib/python3.10/dist-packages (from beautifulsoup4->ntscraper) (2.5)\n",
            "Requirement already satisfied: charset-normalizer<4,>=2 in /usr/local/lib/python3.10/dist-packages (from requests->ntscraper) (3.3.2)\n",
            "Requirement already satisfied: idna<4,>=2.5 in /usr/local/lib/python3.10/dist-packages (from requests->ntscraper) (3.6)\n",
            "Requirement already satisfied: urllib3<3,>=1.21.1 in /usr/local/lib/python3.10/dist-packages (from requests->ntscraper) (2.0.7)\n",
            "Requirement already satisfied: certifi>=2017.4.17 in /usr/local/lib/python3.10/dist-packages (from requests->ntscraper) (2024.2.2)\n"
          ]
        }
      ],
      "source": [
        "!pip install ntscraper"
      ]
    },
    {
      "cell_type": "code",
      "execution_count": 1,
      "metadata": {
        "colab": {
          "base_uri": "https://localhost:8080/"
        },
        "id": "yMD2aOKZtxCu",
        "outputId": "b02cda92-66a1-4fbe-e199-6e761b41ae4a"
      },
      "outputs": [
        {
          "output_type": "stream",
          "name": "stderr",
          "text": [
            "Testing instances: 100%|██████████| 77/77 [01:35<00:00,  1.24s/it]\n"
          ]
        }
      ],
      "source": [
        "from ntscraper import Nitter\n",
        "\n",
        "scraper = Nitter(log_level=1, skip_instance_check=False)"
      ]
    },
    {
      "cell_type": "code",
      "execution_count": 2,
      "metadata": {
        "colab": {
          "base_uri": "https://localhost:8080/"
        },
        "id": "aTElqIJ_uFfE",
        "outputId": "c9aecfee-8550-452d-d6d9-cfbe89754019"
      },
      "outputs": [
        {
          "name": "stdout",
          "output_type": "stream",
          "text": [
            "imvKohli\n"
          ]
        }
      ],
      "source": [
        "username=input()"
      ]
    },
    {
      "cell_type": "code",
      "execution_count": 3,
      "metadata": {
        "colab": {
          "base_uri": "https://localhost:8080/",
          "height": 1000
        },
        "id": "YMU1-338tx6Z",
        "outputId": "22783aa4-1d44-45da-887b-ed896f656fe8"
      },
      "outputs": [
        {
          "output_type": "stream",
          "name": "stderr",
          "text": [
            "INFO:root:No instance specified, using random instance https://nitter.privacydev.net\n",
            "WARNING:root:Empty page on https://nitter.privacydev.net\n",
            "INFO:root:No instance specified, using random instance https://nitter.privacydev.net\n",
            "WARNING:root:Empty page on https://nitter.privacydev.net\n",
            "INFO:root:No instance specified, using random instance https://nitter.privacydev.net\n",
            "WARNING:root:Empty page on https://nitter.privacydev.net\n",
            "INFO:root:No instance specified, using random instance https://nitter.privacydev.net\n",
            "WARNING:root:Empty page on https://nitter.privacydev.net\n",
            "INFO:root:No instance specified, using random instance https://nitter.privacydev.net\n",
            "WARNING:root:Empty page on https://nitter.privacydev.net\n",
            "INFO:root:No instance specified, using random instance https://nitter.privacydev.net\n",
            "WARNING:root:Empty page on https://nitter.privacydev.net\n",
            "INFO:root:No instance specified, using random instance https://nitter.privacydev.net\n",
            "WARNING:root:Empty page on https://nitter.privacydev.net\n",
            "INFO:root:No instance specified, using random instance https://nitter.privacydev.net\n",
            "WARNING:root:Empty page on https://nitter.privacydev.net\n",
            "INFO:root:No instance specified, using random instance https://nitter.privacydev.net\n",
            "WARNING:root:Empty page on https://nitter.privacydev.net\n",
            "INFO:root:No instance specified, using random instance https://nitter.privacydev.net\n",
            "WARNING:root:Empty page on https://nitter.privacydev.net\n",
            "INFO:root:No instance specified, using random instance https://nitter.privacydev.net\n",
            "WARNING:root:Empty page on https://nitter.privacydev.net\n",
            "INFO:root:No instance specified, using random instance https://nitter.privacydev.net\n",
            "WARNING:root:Empty page on https://nitter.privacydev.net\n",
            "INFO:root:No instance specified, using random instance https://nitter.privacydev.net\n",
            "WARNING:root:Empty page on https://nitter.privacydev.net\n",
            "INFO:root:No instance specified, using random instance https://nitter.privacydev.net\n",
            "WARNING:root:Empty page on https://nitter.privacydev.net\n",
            "INFO:root:No instance specified, using random instance https://nitter.privacydev.net\n",
            "WARNING:root:Empty page on https://nitter.privacydev.net\n",
            "INFO:root:No instance specified, using random instance https://nitter.privacydev.net\n",
            "WARNING:root:Empty page on https://nitter.privacydev.net\n",
            "INFO:root:No instance specified, using random instance https://nitter.privacydev.net\n",
            "WARNING:root:Empty page on https://nitter.privacydev.net\n",
            "INFO:root:No instance specified, using random instance https://nitter.privacydev.net\n",
            "WARNING:root:Empty page on https://nitter.privacydev.net\n",
            "INFO:root:No instance specified, using random instance https://nitter.privacydev.net\n",
            "WARNING:root:Empty page on https://nitter.privacydev.net\n",
            "INFO:root:No instance specified, using random instance https://nitter.privacydev.net\n",
            "WARNING:root:Empty page on https://nitter.privacydev.net\n",
            "INFO:root:No instance specified, using random instance https://nitter.privacydev.net\n",
            "WARNING:root:Empty page on https://nitter.privacydev.net\n",
            "INFO:root:No instance specified, using random instance https://nitter.privacydev.net\n",
            "WARNING:root:Empty page on https://nitter.privacydev.net\n",
            "INFO:root:No instance specified, using random instance https://nitter.privacydev.net\n",
            "WARNING:root:Empty page on https://nitter.privacydev.net\n",
            "INFO:root:No instance specified, using random instance https://nitter.privacydev.net\n",
            "WARNING:root:Empty page on https://nitter.privacydev.net\n",
            "INFO:root:No instance specified, using random instance https://nitter.privacydev.net\n",
            "WARNING:root:Empty page on https://nitter.privacydev.net\n",
            "INFO:root:No instance specified, using random instance https://nitter.privacydev.net\n",
            "WARNING:root:Empty page on https://nitter.privacydev.net\n",
            "INFO:root:No instance specified, using random instance https://nitter.privacydev.net\n",
            "WARNING:root:Empty page on https://nitter.privacydev.net\n",
            "INFO:root:No instance specified, using random instance https://nitter.privacydev.net\n",
            "WARNING:root:Empty page on https://nitter.privacydev.net\n",
            "INFO:root:No instance specified, using random instance https://nitter.privacydev.net\n",
            "WARNING:root:Empty page on https://nitter.privacydev.net\n",
            "INFO:root:No instance specified, using random instance https://nitter.privacydev.net\n",
            "WARNING:root:Empty page on https://nitter.privacydev.net\n",
            "INFO:root:No instance specified, using random instance https://nitter.privacydev.net\n",
            "WARNING:root:Empty page on https://nitter.privacydev.net\n",
            "INFO:root:No instance specified, using random instance https://nitter.privacydev.net\n",
            "WARNING:root:Empty page on https://nitter.privacydev.net\n",
            "INFO:root:No instance specified, using random instance https://nitter.privacydev.net\n",
            "WARNING:root:Empty page on https://nitter.privacydev.net\n",
            "INFO:root:No instance specified, using random instance https://nitter.privacydev.net\n",
            "WARNING:root:Empty page on https://nitter.privacydev.net\n",
            "INFO:root:No instance specified, using random instance https://nitter.privacydev.net\n",
            "WARNING:root:Empty page on https://nitter.privacydev.net\n",
            "INFO:root:No instance specified, using random instance https://nitter.privacydev.net\n",
            "WARNING:root:Empty page on https://nitter.privacydev.net\n",
            "INFO:root:No instance specified, using random instance https://nitter.privacydev.net\n",
            "WARNING:root:Empty page on https://nitter.privacydev.net\n",
            "INFO:root:No instance specified, using random instance https://nitter.privacydev.net\n",
            "WARNING:root:Empty page on https://nitter.privacydev.net\n",
            "INFO:root:No instance specified, using random instance https://nitter.privacydev.net\n",
            "WARNING:root:Empty page on https://nitter.privacydev.net\n",
            "INFO:root:No instance specified, using random instance https://nitter.privacydev.net\n",
            "WARNING:root:Empty page on https://nitter.privacydev.net\n",
            "INFO:root:No instance specified, using random instance https://nitter.privacydev.net\n",
            "WARNING:root:Empty page on https://nitter.privacydev.net\n",
            "INFO:root:No instance specified, using random instance https://nitter.privacydev.net\n",
            "WARNING:root:Empty page on https://nitter.privacydev.net\n",
            "INFO:root:No instance specified, using random instance https://nitter.privacydev.net\n",
            "WARNING:root:Empty page on https://nitter.privacydev.net\n",
            "INFO:root:No instance specified, using random instance https://nitter.privacydev.net\n",
            "WARNING:root:Empty page on https://nitter.privacydev.net\n",
            "INFO:root:No instance specified, using random instance https://nitter.privacydev.net\n",
            "WARNING:root:Empty page on https://nitter.privacydev.net\n",
            "INFO:root:No instance specified, using random instance https://nitter.privacydev.net\n",
            "WARNING:root:Empty page on https://nitter.privacydev.net\n",
            "INFO:root:No instance specified, using random instance https://nitter.privacydev.net\n",
            "WARNING:root:Empty page on https://nitter.privacydev.net\n",
            "INFO:root:No instance specified, using random instance https://nitter.privacydev.net\n",
            "WARNING:root:Empty page on https://nitter.privacydev.net\n",
            "INFO:root:No instance specified, using random instance https://nitter.privacydev.net\n",
            "WARNING:root:Empty page on https://nitter.privacydev.net\n",
            "INFO:root:No instance specified, using random instance https://nitter.privacydev.net\n",
            "WARNING:root:Empty page on https://nitter.privacydev.net\n",
            "INFO:root:No instance specified, using random instance https://nitter.privacydev.net\n",
            "WARNING:root:Empty page on https://nitter.privacydev.net\n",
            "INFO:root:No instance specified, using random instance https://nitter.privacydev.net\n",
            "WARNING:root:Empty page on https://nitter.privacydev.net\n",
            "INFO:root:No instance specified, using random instance https://nitter.privacydev.net\n",
            "WARNING:root:Empty page on https://nitter.privacydev.net\n",
            "INFO:root:No instance specified, using random instance https://nitter.privacydev.net\n",
            "WARNING:root:Empty page on https://nitter.privacydev.net\n",
            "INFO:root:No instance specified, using random instance https://nitter.privacydev.net\n",
            "WARNING:root:Empty page on https://nitter.privacydev.net\n",
            "INFO:root:No instance specified, using random instance https://nitter.privacydev.net\n",
            "WARNING:root:Empty page on https://nitter.privacydev.net\n",
            "INFO:root:No instance specified, using random instance https://nitter.privacydev.net\n",
            "WARNING:root:Empty page on https://nitter.privacydev.net\n",
            "INFO:root:No instance specified, using random instance https://nitter.privacydev.net\n",
            "WARNING:root:Empty page on https://nitter.privacydev.net\n",
            "INFO:root:No instance specified, using random instance https://nitter.privacydev.net\n",
            "WARNING:root:Empty page on https://nitter.privacydev.net\n",
            "INFO:root:No instance specified, using random instance https://nitter.privacydev.net\n",
            "WARNING:root:Empty page on https://nitter.privacydev.net\n",
            "INFO:root:No instance specified, using random instance https://nitter.privacydev.net\n",
            "WARNING:root:Empty page on https://nitter.privacydev.net\n",
            "INFO:root:No instance specified, using random instance https://nitter.privacydev.net\n",
            "WARNING:root:Empty page on https://nitter.privacydev.net\n",
            "INFO:root:No instance specified, using random instance https://nitter.privacydev.net\n",
            "WARNING:root:Empty page on https://nitter.privacydev.net\n",
            "INFO:root:No instance specified, using random instance https://nitter.privacydev.net\n",
            "WARNING:root:Empty page on https://nitter.privacydev.net\n",
            "INFO:root:No instance specified, using random instance https://nitter.privacydev.net\n",
            "WARNING:root:Empty page on https://nitter.privacydev.net\n",
            "INFO:root:No instance specified, using random instance https://nitter.privacydev.net\n",
            "WARNING:root:Empty page on https://nitter.privacydev.net\n",
            "INFO:root:No instance specified, using random instance https://nitter.privacydev.net\n",
            "WARNING:root:Empty page on https://nitter.privacydev.net\n",
            "INFO:root:No instance specified, using random instance https://nitter.privacydev.net\n",
            "WARNING:root:Empty page on https://nitter.privacydev.net\n",
            "INFO:root:No instance specified, using random instance https://nitter.privacydev.net\n",
            "WARNING:root:Empty page on https://nitter.privacydev.net\n",
            "INFO:root:No instance specified, using random instance https://nitter.privacydev.net\n",
            "WARNING:root:Empty page on https://nitter.privacydev.net\n",
            "INFO:root:No instance specified, using random instance https://nitter.privacydev.net\n",
            "WARNING:root:Empty page on https://nitter.privacydev.net\n",
            "INFO:root:No instance specified, using random instance https://nitter.privacydev.net\n",
            "WARNING:root:Empty page on https://nitter.privacydev.net\n",
            "INFO:root:No instance specified, using random instance https://nitter.privacydev.net\n",
            "WARNING:root:Empty page on https://nitter.privacydev.net\n",
            "INFO:root:No instance specified, using random instance https://nitter.privacydev.net\n",
            "WARNING:root:Empty page on https://nitter.privacydev.net\n",
            "INFO:root:No instance specified, using random instance https://nitter.privacydev.net\n",
            "WARNING:root:Empty page on https://nitter.privacydev.net\n",
            "INFO:root:No instance specified, using random instance https://nitter.privacydev.net\n",
            "WARNING:root:Empty page on https://nitter.privacydev.net\n",
            "INFO:root:No instance specified, using random instance https://nitter.privacydev.net\n",
            "WARNING:root:Empty page on https://nitter.privacydev.net\n",
            "INFO:root:No instance specified, using random instance https://nitter.privacydev.net\n",
            "WARNING:root:Empty page on https://nitter.privacydev.net\n",
            "INFO:root:No instance specified, using random instance https://nitter.privacydev.net\n",
            "WARNING:root:Empty page on https://nitter.privacydev.net\n",
            "INFO:root:No instance specified, using random instance https://nitter.privacydev.net\n",
            "WARNING:root:Empty page on https://nitter.privacydev.net\n",
            "INFO:root:No instance specified, using random instance https://nitter.privacydev.net\n",
            "WARNING:root:Empty page on https://nitter.privacydev.net\n",
            "INFO:root:No instance specified, using random instance https://nitter.privacydev.net\n",
            "WARNING:root:Empty page on https://nitter.privacydev.net\n",
            "INFO:root:No instance specified, using random instance https://nitter.privacydev.net\n",
            "WARNING:root:Empty page on https://nitter.privacydev.net\n",
            "INFO:root:No instance specified, using random instance https://nitter.privacydev.net\n",
            "WARNING:root:Empty page on https://nitter.privacydev.net\n",
            "INFO:root:No instance specified, using random instance https://nitter.privacydev.net\n",
            "WARNING:root:Empty page on https://nitter.privacydev.net\n",
            "INFO:root:No instance specified, using random instance https://nitter.privacydev.net\n",
            "WARNING:root:Empty page on https://nitter.privacydev.net\n",
            "INFO:root:No instance specified, using random instance https://nitter.privacydev.net\n",
            "WARNING:root:Empty page on https://nitter.privacydev.net\n",
            "INFO:root:No instance specified, using random instance https://nitter.privacydev.net\n",
            "WARNING:root:Empty page on https://nitter.privacydev.net\n",
            "INFO:root:No instance specified, using random instance https://nitter.privacydev.net\n",
            "WARNING:root:Empty page on https://nitter.privacydev.net\n"
          ]
        },
        {
          "output_type": "error",
          "ename": "KeyboardInterrupt",
          "evalue": "",
          "traceback": [
            "\u001b[0;31m---------------------------------------------------------------------------\u001b[0m",
            "\u001b[0;31mKeyboardInterrupt\u001b[0m                         Traceback (most recent call last)",
            "\u001b[0;32m<ipython-input-3-c964b5676e78>\u001b[0m in \u001b[0;36m<cell line: 4>\u001b[0;34m()\u001b[0m\n\u001b[1;32m      4\u001b[0m \u001b[0;32mwhile\u001b[0m \u001b[0;32mnot\u001b[0m \u001b[0mtweets\u001b[0m\u001b[0;34m:\u001b[0m  \u001b[0;31m# Keep trying until tweets are retrieved\u001b[0m\u001b[0;34m\u001b[0m\u001b[0;34m\u001b[0m\u001b[0m\n\u001b[1;32m      5\u001b[0m     \u001b[0;32mtry\u001b[0m\u001b[0;34m:\u001b[0m\u001b[0;34m\u001b[0m\u001b[0;34m\u001b[0m\u001b[0m\n\u001b[0;32m----> 6\u001b[0;31m         \u001b[0mresult\u001b[0m \u001b[0;34m=\u001b[0m \u001b[0mscraper\u001b[0m\u001b[0;34m.\u001b[0m\u001b[0mget_tweets\u001b[0m\u001b[0;34m(\u001b[0m\u001b[0musername\u001b[0m\u001b[0;34m,\u001b[0m \u001b[0mmode\u001b[0m\u001b[0;34m=\u001b[0m\u001b[0;34m'user'\u001b[0m\u001b[0;34m,\u001b[0m \u001b[0mnumber\u001b[0m\u001b[0;34m=\u001b[0m\u001b[0;36m5\u001b[0m\u001b[0;34m)\u001b[0m\u001b[0;34m\u001b[0m\u001b[0;34m\u001b[0m\u001b[0m\n\u001b[0m\u001b[1;32m      7\u001b[0m         \u001b[0mtweets\u001b[0m \u001b[0;34m=\u001b[0m \u001b[0mresult\u001b[0m\u001b[0;34m[\u001b[0m\u001b[0;34m'tweets'\u001b[0m\u001b[0;34m]\u001b[0m\u001b[0;34m\u001b[0m\u001b[0;34m\u001b[0m\u001b[0m\n\u001b[1;32m      8\u001b[0m         \u001b[0mthreads\u001b[0m \u001b[0;34m=\u001b[0m \u001b[0mresult\u001b[0m\u001b[0;34m[\u001b[0m\u001b[0;34m'threads'\u001b[0m\u001b[0;34m]\u001b[0m\u001b[0;34m\u001b[0m\u001b[0;34m\u001b[0m\u001b[0m\n",
            "\u001b[0;32m/usr/local/lib/python3.10/dist-packages/ntscraper/nitter.py\u001b[0m in \u001b[0;36mget_tweets\u001b[0;34m(self, terms, mode, number, since, until, near, language, to, filters, exclude, max_retries, instance)\u001b[0m\n\u001b[1;32m    892\u001b[0m             \u001b[0mterm\u001b[0m \u001b[0;34m=\u001b[0m \u001b[0mterms\u001b[0m\u001b[0;34m.\u001b[0m\u001b[0mstrip\u001b[0m\u001b[0;34m(\u001b[0m\u001b[0;34m)\u001b[0m\u001b[0;34m\u001b[0m\u001b[0;34m\u001b[0m\u001b[0m\n\u001b[1;32m    893\u001b[0m \u001b[0;34m\u001b[0m\u001b[0m\n\u001b[0;32m--> 894\u001b[0;31m             return self._search(\n\u001b[0m\u001b[1;32m    895\u001b[0m                 \u001b[0mterm\u001b[0m\u001b[0;34m,\u001b[0m\u001b[0;34m\u001b[0m\u001b[0;34m\u001b[0m\u001b[0m\n\u001b[1;32m    896\u001b[0m                 \u001b[0mmode\u001b[0m\u001b[0;34m,\u001b[0m\u001b[0;34m\u001b[0m\u001b[0;34m\u001b[0m\u001b[0m\n",
            "\u001b[0;32m/usr/local/lib/python3.10/dist-packages/ntscraper/nitter.py\u001b[0m in \u001b[0;36m_search\u001b[0;34m(self, term, mode, number, since, until, near, language, to, filters, exclude, max_retries, instance)\u001b[0m\n\u001b[1;32m    774\u001b[0m                 \u001b[0mendpoint\u001b[0m \u001b[0;34m+=\u001b[0m \u001b[0;34m\"?scroll=false\"\u001b[0m\u001b[0;34m\u001b[0m\u001b[0;34m\u001b[0m\u001b[0m\n\u001b[1;32m    775\u001b[0m \u001b[0;34m\u001b[0m\u001b[0m\n\u001b[0;32m--> 776\u001b[0;31m         \u001b[0msoup\u001b[0m \u001b[0;34m=\u001b[0m \u001b[0mself\u001b[0m\u001b[0;34m.\u001b[0m\u001b[0m_get_page\u001b[0m\u001b[0;34m(\u001b[0m\u001b[0mendpoint\u001b[0m\u001b[0;34m,\u001b[0m \u001b[0mmax_retries\u001b[0m\u001b[0;34m)\u001b[0m\u001b[0;34m\u001b[0m\u001b[0;34m\u001b[0m\u001b[0m\n\u001b[0m\u001b[1;32m    777\u001b[0m \u001b[0;34m\u001b[0m\u001b[0m\n\u001b[1;32m    778\u001b[0m         \u001b[0;32mif\u001b[0m \u001b[0msoup\u001b[0m \u001b[0;32mis\u001b[0m \u001b[0;32mNone\u001b[0m\u001b[0;34m:\u001b[0m\u001b[0;34m\u001b[0m\u001b[0;34m\u001b[0m\u001b[0m\n",
            "\u001b[0;32m/usr/local/lib/python3.10/dist-packages/ntscraper/nitter.py\u001b[0m in \u001b[0;36m_get_page\u001b[0;34m(self, endpoint, max_retries)\u001b[0m\n\u001b[1;32m    294\u001b[0m                                 )\n\u001b[1;32m    295\u001b[0m                         \u001b[0mself\u001b[0m\u001b[0;34m.\u001b[0m\u001b[0mretry_count\u001b[0m \u001b[0;34m+=\u001b[0m \u001b[0;36m1\u001b[0m\u001b[0;34m\u001b[0m\u001b[0;34m\u001b[0m\u001b[0m\n\u001b[0;32m--> 296\u001b[0;31m             \u001b[0msleep\u001b[0m\u001b[0;34m(\u001b[0m\u001b[0;36m2\u001b[0m\u001b[0;34m)\u001b[0m\u001b[0;34m\u001b[0m\u001b[0;34m\u001b[0m\u001b[0m\n\u001b[0m\u001b[1;32m    297\u001b[0m \u001b[0;34m\u001b[0m\u001b[0m\n\u001b[1;32m    298\u001b[0m         \u001b[0;32mif\u001b[0m \u001b[0mself\u001b[0m\u001b[0;34m.\u001b[0m\u001b[0mretry_count\u001b[0m \u001b[0;34m>=\u001b[0m \u001b[0mmax_retries\u001b[0m\u001b[0;34m:\u001b[0m\u001b[0;34m\u001b[0m\u001b[0;34m\u001b[0m\u001b[0m\n",
            "\u001b[0;31mKeyboardInterrupt\u001b[0m: "
          ]
        }
      ],
      "source": [
        "tweets = []\n",
        "threads = []\n",
        "\n",
        "while not tweets:  # Keep trying until tweets are retrieved\n",
        "    try:\n",
        "        result = scraper.get_tweets(username, mode='user', number=5)\n",
        "        tweets = result['tweets']\n",
        "        threads = result['threads']\n",
        "    except Exception as e:\n",
        "        print(\"Error:\", e)\n",
        "        pass\n",
        "print(\"Tweets:\", tweets)"
      ]
    },
    {
      "cell_type": "code",
      "execution_count": 14,
      "metadata": {
        "id": "IqIlPt2a2rUW"
      },
      "outputs": [],
      "source": [
        "tweet_texts = [tweet['text'] for tweet in tweets]"
      ]
    },
    {
      "cell_type": "code",
      "execution_count": 15,
      "metadata": {
        "id": "uLPi_G_ct24z"
      },
      "outputs": [],
      "source": [
        "text=tweet_texts\n",
        "text = \" \".join(text)"
      ]
    },
    {
      "cell_type": "code",
      "source": [
        "import nltk\n",
        "nltk.download('stopwords')\n",
        "nltk.download('punkt')"
      ],
      "metadata": {
        "colab": {
          "base_uri": "https://localhost:8080/"
        },
        "id": "7HlsCT7DWsnc",
        "outputId": "71630fc8-38f9-43ec-c5fd-efc2361f7d8b"
      },
      "execution_count": 16,
      "outputs": [
        {
          "output_type": "stream",
          "name": "stderr",
          "text": [
            "[nltk_data] Downloading package stopwords to /root/nltk_data...\n",
            "[nltk_data]   Package stopwords is already up-to-date!\n",
            "[nltk_data] Downloading package punkt to /root/nltk_data...\n",
            "[nltk_data]   Package punkt is already up-to-date!\n"
          ]
        },
        {
          "output_type": "execute_result",
          "data": {
            "text/plain": [
              "True"
            ]
          },
          "metadata": {},
          "execution_count": 16
        }
      ]
    },
    {
      "cell_type": "code",
      "execution_count": 17,
      "metadata": {
        "colab": {
          "base_uri": "https://localhost:8080/"
        },
        "id": "SPrPPc9txK4I",
        "outputId": "0616924d-c809-4eea-f2ab-915615155be2"
      },
      "outputs": [
        {
          "output_type": "stream",
          "name": "stderr",
          "text": [
            "[nltk_data] Downloading package stopwords to /root/nltk_data...\n",
            "[nltk_data]   Package stopwords is already up-to-date!\n",
            "INFO:gensim.corpora.dictionary:adding document #0 to Dictionary<0 unique tokens: []>\n",
            "INFO:gensim.corpora.dictionary:built Dictionary<15 unique tokens: ['!', 'Accurate', 'Brave', 'Precisely', 'Quicksilver⚡️']...> from 1 documents (total 15 corpus positions)\n",
            "INFO:gensim.utils:Dictionary lifecycle event {'msg': \"built Dictionary<15 unique tokens: ['!', 'Accurate', 'Brave', 'Precisely', 'Quicksilver⚡️']...> from 1 documents (total 15 corpus positions)\", 'datetime': '2024-04-10T17:05:02.464763', 'gensim': '4.3.2', 'python': '3.10.12 (main, Nov 20 2023, 15:14:05) [GCC 11.4.0]', 'platform': 'Linux-6.1.58+-x86_64-with-glibc2.35', 'event': 'created'}\n",
            "INFO:gensim.models.ldamodel:using symmetric alpha at 0.5\n",
            "INFO:gensim.models.ldamodel:using symmetric eta at 0.5\n",
            "INFO:gensim.models.ldamodel:using serial LDA version on this node\n",
            "INFO:gensim.models.ldamodel:running online (single-pass) LDA training, 2 topics, 1 passes over the supplied corpus of 1 documents, updating model once every 1 documents, evaluating perplexity every 1 documents, iterating 50x with a convergence threshold of 0.001000\n",
            "WARNING:gensim.models.ldamodel:too few updates, training might not converge; consider increasing the number of passes or iterations to improve accuracy\n",
            "INFO:gensim.models.ldamodel:-3.684 per-word bound, 12.9 perplexity estimate based on a held-out corpus of 1 documents with 15 words\n",
            "INFO:gensim.models.ldamodel:PROGRESS: pass 0, at document #1/1\n",
            "INFO:gensim.models.ldamodel:topic #0 (0.500): 0.072*\"man\" + 0.071*\"orbit\" + 0.070*\"Accurate\" + 0.070*\"for\" + 0.069*\"📷公路映画\" + 0.068*\"high-speed\" + 0.067*\"Brave\" + 0.066*\"space\" + 0.066*\"Quicksilver⚡️\" + 0.064*\"stations\"\n",
            "INFO:gensim.models.ldamodel:topic #1 (0.500): 0.072*\"Precisely\" + 0.071*\"!\" + 0.071*\"in\" + 0.070*\"internet\" + 0.070*\"Reliable\" + 0.069*\"stations\" + 0.068*\"Quicksilver⚡️\" + 0.067*\"space\" + 0.066*\"Brave\" + 0.065*\"high-speed\"\n",
            "INFO:gensim.models.ldamodel:topic diff=0.193628, rho=1.000000\n",
            "INFO:gensim.utils:LdaModel lifecycle event {'msg': 'trained LdaModel<num_terms=15, num_topics=2, decay=0.5, chunksize=2000> in 0.02s', 'datetime': '2024-04-10T17:05:02.493577', 'gensim': '4.3.2', 'python': '3.10.12 (main, Nov 20 2023, 15:14:05) [GCC 11.4.0]', 'platform': 'Linux-6.1.58+-x86_64-with-glibc2.35', 'event': 'created'}\n",
            "INFO:gensim.models.ldamodel:topic #0 (0.500): 0.072*\"man\" + 0.071*\"orbit\" + 0.070*\"Accurate\" + 0.070*\"for\" + 0.069*\"📷公路映画\" + 0.068*\"high-speed\" + 0.067*\"Brave\" + 0.066*\"space\" + 0.066*\"Quicksilver⚡️\" + 0.064*\"stations\"\n",
            "INFO:gensim.models.ldamodel:topic #1 (0.500): 0.072*\"Precisely\" + 0.071*\"!\" + 0.071*\"in\" + 0.070*\"internet\" + 0.070*\"Reliable\" + 0.069*\"stations\" + 0.068*\"Quicksilver⚡️\" + 0.067*\"space\" + 0.066*\"Brave\" + 0.065*\"high-speed\"\n"
          ]
        },
        {
          "output_type": "stream",
          "name": "stdout",
          "text": [
            "Keywords: ['Brave', 'man', 'Reliable', 'internet', 'space', 'stations', 'orbit', 'Precisely', 'Accurate']\n",
            "Topics: [(0, '0.072*\"man\" + 0.071*\"orbit\" + 0.070*\"Accurate\" + 0.070*\"for\" + 0.069*\"📷公路映画\" + 0.068*\"high-speed\" + 0.067*\"Brave\" + 0.066*\"space\" + 0.066*\"Quicksilver⚡️\" + 0.064*\"stations\"'), (1, '0.072*\"Precisely\" + 0.071*\"!\" + 0.071*\"in\" + 0.070*\"internet\" + 0.070*\"Reliable\" + 0.069*\"stations\" + 0.068*\"Quicksilver⚡️\" + 0.067*\"space\" + 0.066*\"Brave\" + 0.065*\"high-speed\"')]\n",
            "Sentiment: Positive\n",
            "Stored links:\n",
            "['https://consent.yahoo.com/v2/collectConsent?sessionId=1_cc-session_f8059ab3-aa2f-42f3-a399-85fb2b8c754c', 'https://www.businessinsider.com/jeff-bezos-blue-origin-urine-milestone-nasa-contract-orbital-reef-2024-3', 'https://www.theverge.com/2024/3/18/24104786/rivian-tesla-supercharger-access-adapter-free-r1t-r1s', 'https://www.wired.com/story/identity-thief-lived-as-a-different-man-for-33-years/', 'https://www.wired.com/story/how-kate-middleton-conspiracies-spread-online/']\n"
          ]
        }
      ],
      "source": [
        " import re\n",
        "import nltk\n",
        "from nltk.corpus import stopwords\n",
        "import gensim\n",
        "from gensim.corpora import Dictionary\n",
        "from textblob import TextBlob\n",
        "import requests\n",
        "import nltk\n",
        "nltk.download('stopwords')\n",
        "def preprocess_text(text):\n",
        "    # Remove URLs from text\n",
        "    text = re.sub(r'\\bhttps?:\\/\\/\\S+\\b', '', text)\n",
        "    return text\n",
        "\n",
        "def extract_keywords(text):\n",
        "    stop_words = set(stopwords.words('english'))\n",
        "    words = nltk.word_tokenize(text)\n",
        "    filtered_words = [w for w in words if w not in stop_words and w.isalnum()]\n",
        "\n",
        "    # Consider using a TF-IDF based approach for more refined keyword weights\n",
        "    keywords = nltk.FreqDist(filtered_words).most_common(10)  # Extract top 10\n",
        "    return keywords\n",
        "\n",
        "def perform_topic_modeling(text):\n",
        "    tokenized_texts = [nltk.word_tokenize(text)]\n",
        "    dictionary = Dictionary(tokenized_texts)\n",
        "    corpus = [dictionary.doc2bow(text) for text in tokenized_texts]\n",
        "\n",
        "    lda_model = gensim.models.LdaModel(corpus, num_topics=2, id2word=dictionary)\n",
        "    topics = lda_model.print_topics()\n",
        "    return topics\n",
        "\n",
        "def analyze_sentiment(text):\n",
        "    analysis = TextBlob(text)\n",
        "    sentiment = analysis.sentiment.polarity  # Polarity ranges from -1 (negative) to 1 (positive)\n",
        "    return sentiment\n",
        "\n",
        "def classify_sentiment(sentiment):\n",
        "    if sentiment > 0:\n",
        "        return \"Positive\"\n",
        "    elif sentiment < 0:\n",
        "        return \"Negative\"\n",
        "    else:\n",
        "        return \"Neutral\"\n",
        "\n",
        "# Replace 'YOUR_API_KEY' with your actual NewsAPI key\n",
        "API_KEY = 'bf6556076dcb473eb7aea98d31290f22'\n",
        "BASE_URL = 'https://newsapi.org/v2/everything'\n",
        "\n",
        "def get_news_by_keywords(keywords, language='en'):\n",
        "    keyword_string = ' OR '.join(keywords)  # Combine with OR for broader search\n",
        "    params = {\n",
        "        'q': keyword_string,\n",
        "        'language': language,\n",
        "        'apiKey': API_KEY\n",
        "    }\n",
        "\n",
        "    response = requests.get(BASE_URL, params=params)\n",
        "\n",
        "    if response.status_code == 200:\n",
        "        data = response.json()\n",
        "        return data['articles']  # Return a list of news articles\n",
        "    else:\n",
        "        return None  # Return None on error\n",
        "\n",
        "def main(text):\n",
        "    # Preprocess text\n",
        "    text = preprocess_text(text)\n",
        "\n",
        "    # Extract keywords\n",
        "    keywords = extract_keywords(text)\n",
        "\n",
        "    # Perform topic modeling\n",
        "    topics = perform_topic_modeling(text)\n",
        "\n",
        "    # Analyze sentiment\n",
        "    sentiment = analyze_sentiment(text)\n",
        "    sentiment_label = classify_sentiment(sentiment)\n",
        "\n",
        "    # Get news articles based on keywords\n",
        "    news_articles = get_news_by_keywords([keyword[0] for keyword in keywords])\n",
        "\n",
        "    # Display results\n",
        "    print(\"Keywords:\", [keyword[0] for keyword in keywords])\n",
        "    print(\"Topics:\", topics)\n",
        "    print(\"Sentiment:\", sentiment_label)\n",
        "\n",
        "    if news_articles:\n",
        "        # Store 4-5 links in a list\n",
        "        links = [article['url'] for article in news_articles[:5]]\n",
        "        print(\"Stored links:\")\n",
        "        print(links)\n",
        "    else:\n",
        "        print(\"Error fetching news or no articles found.\")\n",
        "\n",
        "# Example usage\n",
        "\n",
        "main(text)\n"
      ]
    }
  ],
  "metadata": {
    "colab": {
      "provenance": [],
      "include_colab_link": true
    },
    "kernelspec": {
      "display_name": "Python 3",
      "name": "python3"
    },
    "language_info": {
      "name": "python"
    }
  },
  "nbformat": 4,
  "nbformat_minor": 0
}